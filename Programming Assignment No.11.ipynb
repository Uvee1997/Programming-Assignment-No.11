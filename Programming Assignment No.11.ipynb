{
 "cells": [
  {
   "cell_type": "code",
   "execution_count": null,
   "id": "6aef087d",
   "metadata": {},
   "outputs": [],
   "source": [
    "1) Write a Python program to find words which are greater than given length k ?"
   ]
  },
  {
   "cell_type": "code",
   "execution_count": 6,
   "id": "273789da",
   "metadata": {},
   "outputs": [
    {
     "name": "stdout",
     "output_type": "stream",
     "text": [
      "Enter the string : learn python programming at include help\n",
      "Enter k ( value for accepting string) : 6\n",
      "All words which are greater than given length 6 are []\n",
      "All words which are greater than given length 6 are []\n",
      "All words which are greater than given length 6 are ['programming']\n",
      "All words which are greater than given length 6 are ['programming']\n",
      "All words which are greater than given length 6 are ['programming', 'include']\n",
      "All words which are greater than given length 6 are ['programming', 'include']\n"
     ]
    }
   ],
   "source": [
    "n = input('Enter the string : ')\n",
    "k = int(input('Enter k ( value for accepting string) : '))\n",
    "largerStrings = []\n",
    "words = n.split(\" \")\n",
    "for word in words:\n",
    "    if len(word) > k:\n",
    "        largerStrings.append(word)\n",
    "    print('All words which are greater than given length', k , 'are' , largerStrings)    \n",
    "\n"
   ]
  },
  {
   "cell_type": "code",
   "execution_count": null,
   "id": "77538434",
   "metadata": {},
   "outputs": [],
   "source": [
    "2) Write a Python program for removing i-th character from a string ?"
   ]
  },
  {
   "cell_type": "code",
   "execution_count": 8,
   "id": "74fcaaa4",
   "metadata": {},
   "outputs": [
    {
     "name": "stdout",
     "output_type": "stream",
     "text": [
      "pnisgood\n"
     ]
    }
   ],
   "source": [
    "def remove_char(s,i):\n",
    "    a = s[ : 1]\n",
    "    b = s[i + 1: ]\n",
    "    \n",
    "    return a+b\n",
    "string = \"pythonisgood\"\n",
    "i=5\n",
    "print(remove_char(string,i-1))\n",
    "    \n"
   ]
  },
  {
   "cell_type": "code",
   "execution_count": null,
   "id": "46bc7ce8",
   "metadata": {},
   "outputs": [],
   "source": [
    "3) Write a Python program to split and join a string ?"
   ]
  },
  {
   "cell_type": "code",
   "execution_count": 17,
   "id": "497708f8",
   "metadata": {},
   "outputs": [
    {
     "name": "stdout",
     "output_type": "stream",
     "text": [
      "After splitting: ['Welcome', 'to', 'Maharastra']\n",
      "After joining: Welcome-to-Maharastra\n"
     ]
    }
   ],
   "source": [
    "def split_string(string):\n",
    "    list_string = string.split(' ')\n",
    "    return list_string\n",
    "\n",
    "def join_string(list_string):\n",
    "    string = '-'.join(list_string)\n",
    "    return string\n",
    "\n",
    "string = \"Welcome to Maharastra\"\n",
    "list_string = split_string(string)\n",
    "print(\"After splitting:\",list_string)\n",
    "\n",
    "res_string = join_string(list_string)\n",
    "print(\"After joining:\",res_string)\n",
    "    "
   ]
  },
  {
   "cell_type": "code",
   "execution_count": null,
   "id": "5974e5b0",
   "metadata": {},
   "outputs": [],
   "source": [
    "4) Write a Python to check if a given string is binary string or not ?"
   ]
  },
  {
   "cell_type": "code",
   "execution_count": 26,
   "id": "3fcb1a16",
   "metadata": {},
   "outputs": [
    {
     "name": "stdout",
     "output_type": "stream",
     "text": [
      "Yes\n"
     ]
    }
   ],
   "source": [
    "p = set(string)    \n",
    "s = {'0','1'}\n",
    "def check(string):\n",
    "    if s==p or p=={'0'} or p=={'1'}:\n",
    "        print('Yes')\n",
    "    else:\n",
    "        print('No')\n",
    "    \n",
    "if __name__ == \"__main__\":\n",
    "    string = \"0110101010111\" \n",
    "    check(string)\n",
    "    \n",
    "    \n",
    "   "
   ]
  },
  {
   "cell_type": "code",
   "execution_count": null,
   "id": "958b0db2",
   "metadata": {},
   "outputs": [],
   "source": [
    "5) Write a Python program to find uncommon words from two Strings ?"
   ]
  },
  {
   "cell_type": "code",
   "execution_count": 33,
   "id": "c3069e15",
   "metadata": {},
   "outputs": [
    {
     "name": "stdout",
     "output_type": "stream",
     "text": [
      " Lion Animal\n"
     ]
    }
   ],
   "source": [
    "def uncommon(a,b):\n",
    "    list_a = a.split()\n",
    "    list_b = b.split()\n",
    "    uc = \"\"\n",
    "    for i in list_a:\n",
    "        if i not in list_b:\n",
    "            uc = uc+\" \"+i\n",
    "    for j in list_b:\n",
    "        if j  not in list_a:\n",
    "            uc = uc+\" \"+j\n",
    "    return uc\n",
    "a = \"Dog Cat Lion\"\n",
    "b = \"Dog Animal Cat\"\n",
    "print(uncommon(a,b))"
   ]
  },
  {
   "cell_type": "code",
   "execution_count": null,
   "id": "5d6149d6",
   "metadata": {},
   "outputs": [],
   "source": [
    "6) Write a Python Program to find all duplicate characters in string ?"
   ]
  },
  {
   "cell_type": "code",
   "execution_count": 40,
   "id": "e3613ca2",
   "metadata": {},
   "outputs": [
    {
     "name": "stdout",
     "output_type": "stream",
     "text": [
      "o\n"
     ]
    }
   ],
   "source": [
    "string = \"Door\"\n",
    "Duplicates = []\n",
    "for char in string:\n",
    "    if string.count(char)>1:\n",
    "        if char not in Duplicates:\n",
    "            Duplicates.append(char)\n",
    "print(*Duplicates)            \n",
    "    "
   ]
  },
  {
   "cell_type": "code",
   "execution_count": null,
   "id": "42bf4a26",
   "metadata": {},
   "outputs": [],
   "source": [
    "7) Write a Python Program to check if a string contains any special character?"
   ]
  },
  {
   "cell_type": "code",
   "execution_count": 47,
   "id": "0324cfe3",
   "metadata": {},
   "outputs": [],
   "source": [
    "import re\n",
    "\n",
    "def run(string):\n",
    "    regex = re.complie('[@_!#$%^&*()<>?/\\|}{~:]')\n",
    "    if(regex.search(string)==None):\n",
    "        print(\"string is accepted\")\n",
    "    else:\n",
    "        print(\"string is not accepted\")\n",
    "if __name__ == '__main__':\n",
    "    string = \"Yuvraj@123\"\n",
    "    "
   ]
  },
  {
   "cell_type": "code",
   "execution_count": null,
   "id": "4025b774",
   "metadata": {},
   "outputs": [],
   "source": []
  }
 ],
 "metadata": {
  "kernelspec": {
   "display_name": "Python 3 (ipykernel)",
   "language": "python",
   "name": "python3"
  },
  "language_info": {
   "codemirror_mode": {
    "name": "ipython",
    "version": 3
   },
   "file_extension": ".py",
   "mimetype": "text/x-python",
   "name": "python",
   "nbconvert_exporter": "python",
   "pygments_lexer": "ipython3",
   "version": "3.9.7"
  }
 },
 "nbformat": 4,
 "nbformat_minor": 5
}
